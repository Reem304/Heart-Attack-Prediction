{
 "cells": [
  {
   "cell_type": "code",
   "execution_count": 1,
   "id": "71e45d9d",
   "metadata": {},
   "outputs": [],
   "source": [
    "import numpy as np\n",
    "import pandas as pd\n",
    "\n",
    "from sklearn.preprocessing import StandardScaler,OneHotEncoder,normalize\n",
    "from sklearn.neighbors import KNeighborsClassifier\n",
    "from sklearn.tree import DecisionTreeRegressor  \n",
    "from sklearn.metrics import accuracy_score\n",
    "from sklearn.linear_model import LogisticRegression\n",
    "from sklearn.svm import SVC\n",
    "from sklearn.model_selection import train_test_split\n",
    "from sklearn.model_selection import GridSearchCV,RandomizedSearchCV\n",
    "from sklearn.feature_selection import RFECV\n",
    "from imblearn.over_sampling import RandomOverSampler\n",
    "from sklearn.linear_model import LinearRegression\n",
    "from sklearn.ensemble import RandomForestRegressor\n",
    "from sklearn.tree import DecisionTreeClassifier\n",
    "from sklearn.naive_bayes import GaussianNB\n",
    "from sklearn.ensemble import BaggingClassifier,VotingClassifier,RandomForestClassifier,GradientBoostingClassifier\n",
    "from sklearn.ensemble import BaggingRegressor\n",
    "from sklearn.ensemble import GradientBoostingRegressor\n",
    "from sklearn.ensemble import VotingRegressor\n",
    "from category_encoders.binary import BinaryEncoder\n",
    "from sklearn.preprocessing import RobustScaler, StandardScaler, PolynomialFeatures\n",
    "from sklearn.metrics import accuracy_score,classification_report\n",
    "from sklearn.metrics import r2_score\n",
    "from xgboost import XGBClassifier\n",
    "import warnings \n",
    "warnings.filterwarnings(\"ignore\")"
   ]
  },
  {
   "cell_type": "code",
   "execution_count": 2,
   "id": "fdcd60cf",
   "metadata": {},
   "outputs": [
    {
     "data": {
      "text/html": [
       "<div>\n",
       "<style scoped>\n",
       "    .dataframe tbody tr th:only-of-type {\n",
       "        vertical-align: middle;\n",
       "    }\n",
       "\n",
       "    .dataframe tbody tr th {\n",
       "        vertical-align: top;\n",
       "    }\n",
       "\n",
       "    .dataframe thead th {\n",
       "        text-align: right;\n",
       "    }\n",
       "</style>\n",
       "<table border=\"1\" class=\"dataframe\">\n",
       "  <thead>\n",
       "    <tr style=\"text-align: right;\">\n",
       "      <th></th>\n",
       "      <th>Age</th>\n",
       "      <th>Cholesterol</th>\n",
       "      <th>Heart Rate</th>\n",
       "      <th>Exercise Hours Per Week</th>\n",
       "      <th>Diet</th>\n",
       "      <th>Stress Level</th>\n",
       "      <th>Sedentary Hours Per Day</th>\n",
       "      <th>Income</th>\n",
       "      <th>BMI</th>\n",
       "      <th>Triglycerides</th>\n",
       "      <th>Physical Activity Days Per Week</th>\n",
       "      <th>Sleep Hours Per Day</th>\n",
       "      <th>Heart Attack Risk</th>\n",
       "      <th>Systolic</th>\n",
       "    </tr>\n",
       "  </thead>\n",
       "  <tbody>\n",
       "    <tr>\n",
       "      <th>0</th>\n",
       "      <td>67</td>\n",
       "      <td>208</td>\n",
       "      <td>72</td>\n",
       "      <td>4.168189</td>\n",
       "      <td>1</td>\n",
       "      <td>9</td>\n",
       "      <td>6.615001</td>\n",
       "      <td>261404</td>\n",
       "      <td>31.251233</td>\n",
       "      <td>286</td>\n",
       "      <td>0</td>\n",
       "      <td>6</td>\n",
       "      <td>0</td>\n",
       "      <td>158</td>\n",
       "    </tr>\n",
       "    <tr>\n",
       "      <th>1</th>\n",
       "      <td>21</td>\n",
       "      <td>389</td>\n",
       "      <td>98</td>\n",
       "      <td>1.813242</td>\n",
       "      <td>0</td>\n",
       "      <td>1</td>\n",
       "      <td>4.963459</td>\n",
       "      <td>285768</td>\n",
       "      <td>27.194973</td>\n",
       "      <td>235</td>\n",
       "      <td>1</td>\n",
       "      <td>7</td>\n",
       "      <td>0</td>\n",
       "      <td>165</td>\n",
       "    </tr>\n",
       "    <tr>\n",
       "      <th>2</th>\n",
       "      <td>21</td>\n",
       "      <td>324</td>\n",
       "      <td>72</td>\n",
       "      <td>2.078353</td>\n",
       "      <td>2</td>\n",
       "      <td>9</td>\n",
       "      <td>9.463426</td>\n",
       "      <td>235282</td>\n",
       "      <td>28.176571</td>\n",
       "      <td>587</td>\n",
       "      <td>4</td>\n",
       "      <td>4</td>\n",
       "      <td>0</td>\n",
       "      <td>174</td>\n",
       "    </tr>\n",
       "    <tr>\n",
       "      <th>3</th>\n",
       "      <td>84</td>\n",
       "      <td>383</td>\n",
       "      <td>73</td>\n",
       "      <td>9.828130</td>\n",
       "      <td>1</td>\n",
       "      <td>9</td>\n",
       "      <td>7.648981</td>\n",
       "      <td>125640</td>\n",
       "      <td>36.464704</td>\n",
       "      <td>378</td>\n",
       "      <td>3</td>\n",
       "      <td>4</td>\n",
       "      <td>0</td>\n",
       "      <td>163</td>\n",
       "    </tr>\n",
       "    <tr>\n",
       "      <th>4</th>\n",
       "      <td>66</td>\n",
       "      <td>318</td>\n",
       "      <td>93</td>\n",
       "      <td>10.070897</td>\n",
       "      <td>0</td>\n",
       "      <td>6</td>\n",
       "      <td>1.514821</td>\n",
       "      <td>160555</td>\n",
       "      <td>21.809144</td>\n",
       "      <td>231</td>\n",
       "      <td>1</td>\n",
       "      <td>5</td>\n",
       "      <td>0</td>\n",
       "      <td>91</td>\n",
       "    </tr>\n",
       "  </tbody>\n",
       "</table>\n",
       "</div>"
      ],
      "text/plain": [
       "   Age  Cholesterol  Heart Rate  Exercise Hours Per Week  Diet  Stress Level  \\\n",
       "0   67          208          72                 4.168189     1             9   \n",
       "1   21          389          98                 1.813242     0             1   \n",
       "2   21          324          72                 2.078353     2             9   \n",
       "3   84          383          73                 9.828130     1             9   \n",
       "4   66          318          93                10.070897     0             6   \n",
       "\n",
       "   Sedentary Hours Per Day  Income        BMI  Triglycerides  \\\n",
       "0                 6.615001  261404  31.251233            286   \n",
       "1                 4.963459  285768  27.194973            235   \n",
       "2                 9.463426  235282  28.176571            587   \n",
       "3                 7.648981  125640  36.464704            378   \n",
       "4                 1.514821  160555  21.809144            231   \n",
       "\n",
       "   Physical Activity Days Per Week  Sleep Hours Per Day  Heart Attack Risk  \\\n",
       "0                                0                    6                  0   \n",
       "1                                1                    7                  0   \n",
       "2                                4                    4                  0   \n",
       "3                                3                    4                  0   \n",
       "4                                1                    5                  0   \n",
       "\n",
       "   Systolic  \n",
       "0       158  \n",
       "1       165  \n",
       "2       174  \n",
       "3       163  \n",
       "4        91  "
      ]
     },
     "execution_count": 2,
     "metadata": {},
     "output_type": "execute_result"
    }
   ],
   "source": [
    "df= pd.read_csv(\"../data/processed/processed_heart_attack.csv\")\n",
    "df.head()"
   ]
  },
  {
   "cell_type": "code",
   "execution_count": 3,
   "id": "44789912",
   "metadata": {},
   "outputs": [
    {
     "data": {
      "text/plain": [
       "Index(['Age', 'Cholesterol', 'Heart Rate', 'Exercise Hours Per Week', 'Diet',\n",
       "       'Stress Level', 'Sedentary Hours Per Day', 'Income', 'BMI',\n",
       "       'Triglycerides', 'Physical Activity Days Per Week',\n",
       "       'Sleep Hours Per Day', 'Heart Attack Risk', 'Systolic'],\n",
       "      dtype='object')"
      ]
     },
     "execution_count": 3,
     "metadata": {},
     "output_type": "execute_result"
    }
   ],
   "source": [
    "df.columns"
   ]
  },
  {
   "cell_type": "markdown",
   "id": "a9be9796",
   "metadata": {},
   "source": [
    "# Split Data"
   ]
  },
  {
   "cell_type": "code",
   "execution_count": 4,
   "id": "c3d224ba",
   "metadata": {},
   "outputs": [],
   "source": [
    "\n",
    "x =df.drop('Heart Attack Risk',axis=1)\n",
    "y  = df['Heart Attack Risk']"
   ]
  },
  {
   "cell_type": "code",
   "execution_count": 5,
   "id": "0286eb22",
   "metadata": {},
   "outputs": [],
   "source": [
    "x_train ,x_test ,y_train ,y_test =train_test_split(x ,y ,random_state=0,test_size=0.2)\n",
    "scaler=StandardScaler()\n",
    "x_train=scaler.fit_transform(x_train)\n",
    "x_test=scaler.transform(x_test)"
   ]
  },
  {
   "cell_type": "markdown",
   "id": "dfe42b46",
   "metadata": {},
   "source": [
    "# HyperParameter Tunning\n",
    "\n",
    "HyperParameter Tunning directly affects model performance.\n",
    " \n",
    "\n",
    "==> each model has its hyperparameter and each parameter has number of different values so the question now\n",
    "    which the best values of this parameter that achieve the best performance and accuracy.\n",
    "\n",
    "\n",
    "\n",
    "HyperParameter Tunning such as : GridsearchCV and Randomized Search.\n",
    "\n",
    "1) GridsearchCV:\n",
    "GridSearchCV exhaustively considers all parameter combinations.\n",
    "\n",
    "GridsearchCV advantage: more accuracy than Randomized Search as in Gridsearch try all the possibilities in value range \n",
    "and runnig models depend on number of possiblilties.\n",
    "\n",
    "GridsearchCV disadvantage: take alot of time and high cost.\n",
    "\n",
    "\n",
    "The GridSearchCV instance implements the usual estimator API: when “fitting” it on a dataset all the possible combinations of parameter values are evaluated and the best combination is retained.\n",
    "\n",
    "2) Randomized Search:\n",
    "here try random values and learn random models.\n",
    "\n",
    "Randomized Search advantage: cost and time redduction.\n",
    "\n",
    "Randomized Search disadvantage: less accuracy than GridsearchCV .\n"
   ]
  },
  {
   "cell_type": "markdown",
   "id": "1dea426b",
   "metadata": {},
   "source": [
    "# GridSearch\n",
    "# HyperParameter Tunning of SVC"
   ]
  },
  {
   "cell_type": "code",
   "execution_count": 256,
   "id": "757a3169",
   "metadata": {},
   "outputs": [
    {
     "data": {
      "text/html": [
       "<style>#sk-container-id-6 {color: black;background-color: white;}#sk-container-id-6 pre{padding: 0;}#sk-container-id-6 div.sk-toggleable {background-color: white;}#sk-container-id-6 label.sk-toggleable__label {cursor: pointer;display: block;width: 100%;margin-bottom: 0;padding: 0.3em;box-sizing: border-box;text-align: center;}#sk-container-id-6 label.sk-toggleable__label-arrow:before {content: \"▸\";float: left;margin-right: 0.25em;color: #696969;}#sk-container-id-6 label.sk-toggleable__label-arrow:hover:before {color: black;}#sk-container-id-6 div.sk-estimator:hover label.sk-toggleable__label-arrow:before {color: black;}#sk-container-id-6 div.sk-toggleable__content {max-height: 0;max-width: 0;overflow: hidden;text-align: left;background-color: #f0f8ff;}#sk-container-id-6 div.sk-toggleable__content pre {margin: 0.2em;color: black;border-radius: 0.25em;background-color: #f0f8ff;}#sk-container-id-6 input.sk-toggleable__control:checked~div.sk-toggleable__content {max-height: 200px;max-width: 100%;overflow: auto;}#sk-container-id-6 input.sk-toggleable__control:checked~label.sk-toggleable__label-arrow:before {content: \"▾\";}#sk-container-id-6 div.sk-estimator input.sk-toggleable__control:checked~label.sk-toggleable__label {background-color: #d4ebff;}#sk-container-id-6 div.sk-label input.sk-toggleable__control:checked~label.sk-toggleable__label {background-color: #d4ebff;}#sk-container-id-6 input.sk-hidden--visually {border: 0;clip: rect(1px 1px 1px 1px);clip: rect(1px, 1px, 1px, 1px);height: 1px;margin: -1px;overflow: hidden;padding: 0;position: absolute;width: 1px;}#sk-container-id-6 div.sk-estimator {font-family: monospace;background-color: #f0f8ff;border: 1px dotted black;border-radius: 0.25em;box-sizing: border-box;margin-bottom: 0.5em;}#sk-container-id-6 div.sk-estimator:hover {background-color: #d4ebff;}#sk-container-id-6 div.sk-parallel-item::after {content: \"\";width: 100%;border-bottom: 1px solid gray;flex-grow: 1;}#sk-container-id-6 div.sk-label:hover label.sk-toggleable__label {background-color: #d4ebff;}#sk-container-id-6 div.sk-serial::before {content: \"\";position: absolute;border-left: 1px solid gray;box-sizing: border-box;top: 0;bottom: 0;left: 50%;z-index: 0;}#sk-container-id-6 div.sk-serial {display: flex;flex-direction: column;align-items: center;background-color: white;padding-right: 0.2em;padding-left: 0.2em;position: relative;}#sk-container-id-6 div.sk-item {position: relative;z-index: 1;}#sk-container-id-6 div.sk-parallel {display: flex;align-items: stretch;justify-content: center;background-color: white;position: relative;}#sk-container-id-6 div.sk-item::before, #sk-container-id-6 div.sk-parallel-item::before {content: \"\";position: absolute;border-left: 1px solid gray;box-sizing: border-box;top: 0;bottom: 0;left: 50%;z-index: -1;}#sk-container-id-6 div.sk-parallel-item {display: flex;flex-direction: column;z-index: 1;position: relative;background-color: white;}#sk-container-id-6 div.sk-parallel-item:first-child::after {align-self: flex-end;width: 50%;}#sk-container-id-6 div.sk-parallel-item:last-child::after {align-self: flex-start;width: 50%;}#sk-container-id-6 div.sk-parallel-item:only-child::after {width: 0;}#sk-container-id-6 div.sk-dashed-wrapped {border: 1px dashed gray;margin: 0 0.4em 0.5em 0.4em;box-sizing: border-box;padding-bottom: 0.4em;background-color: white;}#sk-container-id-6 div.sk-label label {font-family: monospace;font-weight: bold;display: inline-block;line-height: 1.2em;}#sk-container-id-6 div.sk-label-container {text-align: center;}#sk-container-id-6 div.sk-container {/* jupyter's `normalize.less` sets `[hidden] { display: none; }` but bootstrap.min.css set `[hidden] { display: none !important; }` so we also need the `!important` here to be able to override the default hidden behavior on the sphinx rendered scikit-learn.org. See: https://github.com/scikit-learn/scikit-learn/issues/21755 */display: inline-block !important;position: relative;}#sk-container-id-6 div.sk-text-repr-fallback {display: none;}</style><div id=\"sk-container-id-6\" class=\"sk-top-container\"><div class=\"sk-text-repr-fallback\"><pre>GridSearchCV(estimator=SVC(), n_jobs=-1,\n",
       "             param_grid=[{&#x27;C&#x27;: [1, 10], &#x27;kernel&#x27;: [&#x27;linear&#x27;, &#x27;sigmoid&#x27;, &#x27;poly&#x27;],\n",
       "                          &#x27;random_state&#x27;: range(0, 10)},\n",
       "                         {&#x27;C&#x27;: [1, 10],\n",
       "                          &#x27;gamma&#x27;: [0.5, 0.6, 0.7, 0.1, 0.01, 0.01],\n",
       "                          &#x27;kernel&#x27;: [&#x27;rbf&#x27;], &#x27;random_state&#x27;: range(0, 10)}],\n",
       "             scoring=&#x27;accuracy&#x27;)</pre><b>In a Jupyter environment, please rerun this cell to show the HTML representation or trust the notebook. <br />On GitHub, the HTML representation is unable to render, please try loading this page with nbviewer.org.</b></div><div class=\"sk-container\" hidden><div class=\"sk-item sk-dashed-wrapped\"><div class=\"sk-label-container\"><div class=\"sk-label sk-toggleable\"><input class=\"sk-toggleable__control sk-hidden--visually\" id=\"sk-estimator-id-12\" type=\"checkbox\" ><label for=\"sk-estimator-id-12\" class=\"sk-toggleable__label sk-toggleable__label-arrow\">GridSearchCV</label><div class=\"sk-toggleable__content\"><pre>GridSearchCV(estimator=SVC(), n_jobs=-1,\n",
       "             param_grid=[{&#x27;C&#x27;: [1, 10], &#x27;kernel&#x27;: [&#x27;linear&#x27;, &#x27;sigmoid&#x27;, &#x27;poly&#x27;],\n",
       "                          &#x27;random_state&#x27;: range(0, 10)},\n",
       "                         {&#x27;C&#x27;: [1, 10],\n",
       "                          &#x27;gamma&#x27;: [0.5, 0.6, 0.7, 0.1, 0.01, 0.01],\n",
       "                          &#x27;kernel&#x27;: [&#x27;rbf&#x27;], &#x27;random_state&#x27;: range(0, 10)}],\n",
       "             scoring=&#x27;accuracy&#x27;)</pre></div></div></div><div class=\"sk-parallel\"><div class=\"sk-parallel-item\"><div class=\"sk-item\"><div class=\"sk-label-container\"><div class=\"sk-label sk-toggleable\"><input class=\"sk-toggleable__control sk-hidden--visually\" id=\"sk-estimator-id-13\" type=\"checkbox\" ><label for=\"sk-estimator-id-13\" class=\"sk-toggleable__label sk-toggleable__label-arrow\">estimator: SVC</label><div class=\"sk-toggleable__content\"><pre>SVC()</pre></div></div></div><div class=\"sk-serial\"><div class=\"sk-item\"><div class=\"sk-estimator sk-toggleable\"><input class=\"sk-toggleable__control sk-hidden--visually\" id=\"sk-estimator-id-14\" type=\"checkbox\" ><label for=\"sk-estimator-id-14\" class=\"sk-toggleable__label sk-toggleable__label-arrow\">SVC</label><div class=\"sk-toggleable__content\"><pre>SVC()</pre></div></div></div></div></div></div></div></div></div></div>"
      ],
      "text/plain": [
       "GridSearchCV(estimator=SVC(), n_jobs=-1,\n",
       "             param_grid=[{'C': [1, 10], 'kernel': ['linear', 'sigmoid', 'poly'],\n",
       "                          'random_state': range(0, 10)},\n",
       "                         {'C': [1, 10],\n",
       "                          'gamma': [0.5, 0.6, 0.7, 0.1, 0.01, 0.01],\n",
       "                          'kernel': ['rbf'], 'random_state': range(0, 10)}],\n",
       "             scoring='accuracy')"
      ]
     },
     "execution_count": 256,
     "metadata": {},
     "output_type": "execute_result"
    }
   ],
   "source": [
    "'''\n",
    "HyperParameter Tunning (GridSearch)\n",
    "1) For SVC\n",
    "'''\n",
    "model=SVC()\n",
    "params = [\n",
    "        {'C':[1, 10], 'kernel':['linear', 'sigmoid', 'poly'],'random_state':range(0,10)},\n",
    "        {'C':[1, 10], 'kernel':['rbf'], 'gamma':[0.5, 0.6, 0.7, 0.1, 0.01, 0.01],'random_state':range(0,10)}\n",
    "         ]\n",
    "grid_search_svc=GridSearchCV(estimator=model,\n",
    "                        param_grid=params,\n",
    "                        scoring='accuracy',\n",
    "                        n_jobs=-1)\n",
    "grid_search_svc.fit(x_train,y_train)"
   ]
  },
  {
   "cell_type": "code",
   "execution_count": 257,
   "id": "4e149547",
   "metadata": {},
   "outputs": [
    {
     "data": {
      "text/plain": [
       "{'C': 1, 'kernel': 'linear', 'random_state': 0}"
      ]
     },
     "execution_count": 257,
     "metadata": {},
     "output_type": "execute_result"
    }
   ],
   "source": [
    "'''\n",
    "best parms here is that when C:1 and kernel eq 'linear' and random_state eq  0 ==>default'\n",
    "'''\n",
    "grid_search_svc.best_params_"
   ]
  },
  {
   "cell_type": "code",
   "execution_count": 258,
   "id": "cf2ddd89",
   "metadata": {},
   "outputs": [
    {
     "data": {
      "text/plain": [
       "0.6433666191155493"
      ]
     },
     "execution_count": 258,
     "metadata": {},
     "output_type": "execute_result"
    }
   ],
   "source": [
    "'''\n",
    "here SVC score is 0.6433666191155493\n",
    "\n",
    "'''\n",
    "grid_search_svc.best_score_"
   ]
  },
  {
   "cell_type": "markdown",
   "id": "8c819ee6",
   "metadata": {},
   "source": [
    "# HyperParameter Tunning of KNN"
   ]
  },
  {
   "cell_type": "code",
   "execution_count": 259,
   "id": "5a57ec27",
   "metadata": {},
   "outputs": [
    {
     "data": {
      "text/html": [
       "<style>#sk-container-id-7 {color: black;background-color: white;}#sk-container-id-7 pre{padding: 0;}#sk-container-id-7 div.sk-toggleable {background-color: white;}#sk-container-id-7 label.sk-toggleable__label {cursor: pointer;display: block;width: 100%;margin-bottom: 0;padding: 0.3em;box-sizing: border-box;text-align: center;}#sk-container-id-7 label.sk-toggleable__label-arrow:before {content: \"▸\";float: left;margin-right: 0.25em;color: #696969;}#sk-container-id-7 label.sk-toggleable__label-arrow:hover:before {color: black;}#sk-container-id-7 div.sk-estimator:hover label.sk-toggleable__label-arrow:before {color: black;}#sk-container-id-7 div.sk-toggleable__content {max-height: 0;max-width: 0;overflow: hidden;text-align: left;background-color: #f0f8ff;}#sk-container-id-7 div.sk-toggleable__content pre {margin: 0.2em;color: black;border-radius: 0.25em;background-color: #f0f8ff;}#sk-container-id-7 input.sk-toggleable__control:checked~div.sk-toggleable__content {max-height: 200px;max-width: 100%;overflow: auto;}#sk-container-id-7 input.sk-toggleable__control:checked~label.sk-toggleable__label-arrow:before {content: \"▾\";}#sk-container-id-7 div.sk-estimator input.sk-toggleable__control:checked~label.sk-toggleable__label {background-color: #d4ebff;}#sk-container-id-7 div.sk-label input.sk-toggleable__control:checked~label.sk-toggleable__label {background-color: #d4ebff;}#sk-container-id-7 input.sk-hidden--visually {border: 0;clip: rect(1px 1px 1px 1px);clip: rect(1px, 1px, 1px, 1px);height: 1px;margin: -1px;overflow: hidden;padding: 0;position: absolute;width: 1px;}#sk-container-id-7 div.sk-estimator {font-family: monospace;background-color: #f0f8ff;border: 1px dotted black;border-radius: 0.25em;box-sizing: border-box;margin-bottom: 0.5em;}#sk-container-id-7 div.sk-estimator:hover {background-color: #d4ebff;}#sk-container-id-7 div.sk-parallel-item::after {content: \"\";width: 100%;border-bottom: 1px solid gray;flex-grow: 1;}#sk-container-id-7 div.sk-label:hover label.sk-toggleable__label {background-color: #d4ebff;}#sk-container-id-7 div.sk-serial::before {content: \"\";position: absolute;border-left: 1px solid gray;box-sizing: border-box;top: 0;bottom: 0;left: 50%;z-index: 0;}#sk-container-id-7 div.sk-serial {display: flex;flex-direction: column;align-items: center;background-color: white;padding-right: 0.2em;padding-left: 0.2em;position: relative;}#sk-container-id-7 div.sk-item {position: relative;z-index: 1;}#sk-container-id-7 div.sk-parallel {display: flex;align-items: stretch;justify-content: center;background-color: white;position: relative;}#sk-container-id-7 div.sk-item::before, #sk-container-id-7 div.sk-parallel-item::before {content: \"\";position: absolute;border-left: 1px solid gray;box-sizing: border-box;top: 0;bottom: 0;left: 50%;z-index: -1;}#sk-container-id-7 div.sk-parallel-item {display: flex;flex-direction: column;z-index: 1;position: relative;background-color: white;}#sk-container-id-7 div.sk-parallel-item:first-child::after {align-self: flex-end;width: 50%;}#sk-container-id-7 div.sk-parallel-item:last-child::after {align-self: flex-start;width: 50%;}#sk-container-id-7 div.sk-parallel-item:only-child::after {width: 0;}#sk-container-id-7 div.sk-dashed-wrapped {border: 1px dashed gray;margin: 0 0.4em 0.5em 0.4em;box-sizing: border-box;padding-bottom: 0.4em;background-color: white;}#sk-container-id-7 div.sk-label label {font-family: monospace;font-weight: bold;display: inline-block;line-height: 1.2em;}#sk-container-id-7 div.sk-label-container {text-align: center;}#sk-container-id-7 div.sk-container {/* jupyter's `normalize.less` sets `[hidden] { display: none; }` but bootstrap.min.css set `[hidden] { display: none !important; }` so we also need the `!important` here to be able to override the default hidden behavior on the sphinx rendered scikit-learn.org. See: https://github.com/scikit-learn/scikit-learn/issues/21755 */display: inline-block !important;position: relative;}#sk-container-id-7 div.sk-text-repr-fallback {display: none;}</style><div id=\"sk-container-id-7\" class=\"sk-top-container\"><div class=\"sk-text-repr-fallback\"><pre>GridSearchCV(estimator=KNeighborsClassifier(),\n",
       "             param_grid=[{&#x27;algorithm&#x27;: [&#x27;ball_tree&#x27;, &#x27;kd_tree&#x27;, &#x27;brute&#x27;],\n",
       "                          &#x27;leaf_size&#x27;: [15, 40],\n",
       "                          &#x27;metric&#x27;: [&#x27;cityblock&#x27;, &#x27;cosine&#x27;, &#x27;euclidean&#x27;, &#x27;l1&#x27;,\n",
       "                                     &#x27;l2&#x27;, &#x27;haversine&#x27;, &#x27;manhattan&#x27;,\n",
       "                                     &#x27;nan_euclidean&#x27;, &#x27;minkowski&#x27;],\n",
       "                          &#x27;n_neighbors&#x27;: [3, 5, 7, 9],\n",
       "                          &#x27;weights&#x27;: [&#x27;uniform&#x27;, &#x27;distance&#x27;]}],\n",
       "             scoring=&#x27;accuracy&#x27;)</pre><b>In a Jupyter environment, please rerun this cell to show the HTML representation or trust the notebook. <br />On GitHub, the HTML representation is unable to render, please try loading this page with nbviewer.org.</b></div><div class=\"sk-container\" hidden><div class=\"sk-item sk-dashed-wrapped\"><div class=\"sk-label-container\"><div class=\"sk-label sk-toggleable\"><input class=\"sk-toggleable__control sk-hidden--visually\" id=\"sk-estimator-id-15\" type=\"checkbox\" ><label for=\"sk-estimator-id-15\" class=\"sk-toggleable__label sk-toggleable__label-arrow\">GridSearchCV</label><div class=\"sk-toggleable__content\"><pre>GridSearchCV(estimator=KNeighborsClassifier(),\n",
       "             param_grid=[{&#x27;algorithm&#x27;: [&#x27;ball_tree&#x27;, &#x27;kd_tree&#x27;, &#x27;brute&#x27;],\n",
       "                          &#x27;leaf_size&#x27;: [15, 40],\n",
       "                          &#x27;metric&#x27;: [&#x27;cityblock&#x27;, &#x27;cosine&#x27;, &#x27;euclidean&#x27;, &#x27;l1&#x27;,\n",
       "                                     &#x27;l2&#x27;, &#x27;haversine&#x27;, &#x27;manhattan&#x27;,\n",
       "                                     &#x27;nan_euclidean&#x27;, &#x27;minkowski&#x27;],\n",
       "                          &#x27;n_neighbors&#x27;: [3, 5, 7, 9],\n",
       "                          &#x27;weights&#x27;: [&#x27;uniform&#x27;, &#x27;distance&#x27;]}],\n",
       "             scoring=&#x27;accuracy&#x27;)</pre></div></div></div><div class=\"sk-parallel\"><div class=\"sk-parallel-item\"><div class=\"sk-item\"><div class=\"sk-label-container\"><div class=\"sk-label sk-toggleable\"><input class=\"sk-toggleable__control sk-hidden--visually\" id=\"sk-estimator-id-16\" type=\"checkbox\" ><label for=\"sk-estimator-id-16\" class=\"sk-toggleable__label sk-toggleable__label-arrow\">estimator: KNeighborsClassifier</label><div class=\"sk-toggleable__content\"><pre>KNeighborsClassifier()</pre></div></div></div><div class=\"sk-serial\"><div class=\"sk-item\"><div class=\"sk-estimator sk-toggleable\"><input class=\"sk-toggleable__control sk-hidden--visually\" id=\"sk-estimator-id-17\" type=\"checkbox\" ><label for=\"sk-estimator-id-17\" class=\"sk-toggleable__label sk-toggleable__label-arrow\">KNeighborsClassifier</label><div class=\"sk-toggleable__content\"><pre>KNeighborsClassifier()</pre></div></div></div></div></div></div></div></div></div></div>"
      ],
      "text/plain": [
       "GridSearchCV(estimator=KNeighborsClassifier(),\n",
       "             param_grid=[{'algorithm': ['ball_tree', 'kd_tree', 'brute'],\n",
       "                          'leaf_size': [15, 40],\n",
       "                          'metric': ['cityblock', 'cosine', 'euclidean', 'l1',\n",
       "                                     'l2', 'haversine', 'manhattan',\n",
       "                                     'nan_euclidean', 'minkowski'],\n",
       "                          'n_neighbors': [3, 5, 7, 9],\n",
       "                          'weights': ['uniform', 'distance']}],\n",
       "             scoring='accuracy')"
      ]
     },
     "execution_count": 259,
     "metadata": {},
     "output_type": "execute_result"
    }
   ],
   "source": [
    "'''\n",
    "HyperParameter Tunning (GridSearch)\n",
    "2) For KNN\n",
    "'''\n",
    "knn_classifer=KNeighborsClassifier()\n",
    "params = [{'n_neighbors': [3, 5, 7, 9],\n",
    "         'weights': ['uniform', 'distance'],\n",
    "         'algorithm':['ball_tree','kd_tree','brute'],\n",
    "         'metric':['cityblock','cosine','euclidean','l1','l2','haversine','manhattan','nan_euclidean','minkowski'],\n",
    "         'leaf_size': [15, 40]}]\n",
    "grid_search_knn = GridSearchCV(knn_classifer,\n",
    "                      param_grid=params,\n",
    "                      scoring='accuracy')\n",
    "grid_search_knn.fit(x_train, y_train)"
   ]
  },
  {
   "cell_type": "code",
   "execution_count": 260,
   "id": "bc2f4511",
   "metadata": {},
   "outputs": [
    {
     "data": {
      "text/plain": [
       "{'algorithm': 'ball_tree',\n",
       " 'leaf_size': 15,\n",
       " 'metric': 'cityblock',\n",
       " 'n_neighbors': 9,\n",
       " 'weights': 'uniform'}"
      ]
     },
     "execution_count": 260,
     "metadata": {},
     "output_type": "execute_result"
    }
   ],
   "source": [
    "grid_search_knn.best_params_"
   ]
  },
  {
   "cell_type": "code",
   "execution_count": 261,
   "id": "6ce9ec6b",
   "metadata": {},
   "outputs": [
    {
     "data": {
      "text/plain": [
       "0.5864479315263909"
      ]
     },
     "execution_count": 261,
     "metadata": {},
     "output_type": "execute_result"
    }
   ],
   "source": [
    "'''\n",
    "here KNN score is 0.5864479315263909\n",
    "\n",
    "'''\n",
    "grid_search_knn.best_score_"
   ]
  },
  {
   "cell_type": "markdown",
   "id": "b87bf66d",
   "metadata": {},
   "source": [
    "# HyperParameter Tunning of Random Forest Model"
   ]
  },
  {
   "cell_type": "code",
   "execution_count": 262,
   "id": "ba5fea22",
   "metadata": {},
   "outputs": [],
   "source": [
    "grid = [{'n_estimators':[100,300,500], 'max_depth':[None, 5,10,15],\n",
    "        'min_samples_split':[2,5,10] , 'min_samples_leaf':[1,2,4]}]"
   ]
  },
  {
   "cell_type": "code",
   "execution_count": 263,
   "id": "9c192f4b",
   "metadata": {},
   "outputs": [],
   "source": [
    "from sklearn.ensemble import RandomForestClassifier\n",
    "rfc = RandomForestClassifier()"
   ]
  },
  {
   "cell_type": "code",
   "execution_count": 264,
   "id": "622e304f",
   "metadata": {},
   "outputs": [
    {
     "name": "stdout",
     "output_type": "stream",
     "text": [
      "Fitting 5 folds for each of 108 candidates, totalling 540 fits\n"
     ]
    },
    {
     "data": {
      "text/plain": [
       "0.6436519258202568"
      ]
     },
     "execution_count": 264,
     "metadata": {},
     "output_type": "execute_result"
    }
   ],
   "source": [
    "grid_search = GridSearchCV(estimator = rfc, param_grid = grid, scoring = 'accuracy',n_jobs = -1,verbose = 2)\n",
    "grid_search = grid_search.fit(x_train, y_train)\n",
    "\n",
    "grid_search.best_score_"
   ]
  },
  {
   "cell_type": "code",
   "execution_count": 265,
   "id": "e2fe0c67",
   "metadata": {},
   "outputs": [],
   "source": [
    "grid_search_rfc =  GridSearchCV(rfc,\n",
    "                      param_grid=params,\n",
    "                      scoring='accuracy')"
   ]
  },
  {
   "cell_type": "code",
   "execution_count": 266,
   "id": "d99c85b2",
   "metadata": {},
   "outputs": [
    {
     "data": {
      "text/plain": [
       "{'max_depth': 10,\n",
       " 'min_samples_leaf': 4,\n",
       " 'min_samples_split': 10,\n",
       " 'n_estimators': 100}"
      ]
     },
     "execution_count": 266,
     "metadata": {},
     "output_type": "execute_result"
    }
   ],
   "source": [
    "grid_search.best_params_"
   ]
  },
  {
   "cell_type": "code",
   "execution_count": 267,
   "id": "25db7ce5",
   "metadata": {},
   "outputs": [
    {
     "data": {
      "text/plain": [
       "'\\nThe best score from Hyper parameter tunning of Random forest model which is 0.64365192582025698\\n'"
      ]
     },
     "execution_count": 267,
     "metadata": {},
     "output_type": "execute_result"
    }
   ],
   "source": [
    "'''\n",
    "The best score from Hyper parameter tunning of Random forest model which is 0.64365192582025698\n",
    "'''"
   ]
  },
  {
   "cell_type": "markdown",
   "id": "68982c92",
   "metadata": {},
   "source": [
    "# ML Classifcation"
   ]
  },
  {
   "cell_type": "code",
   "execution_count": 270,
   "id": "ce4224c8",
   "metadata": {},
   "outputs": [],
   "source": [
    "\n",
    "\n",
    "models={\n",
    "    'log_reg':LogisticRegression(C=0.1, penalty='l2'),\n",
    "    'KNN':KNeighborsClassifier(n_neighbors=5),\n",
    "    'SVC':SVC(),\n",
    "    'NB':GaussianNB(),\n",
    "    'DT':DecisionTreeClassifier(),\n",
    "    'RF':RandomForestClassifier(n_estimators=100,min_samples_split=10,min_samples_leaf=4,max_depth=10),\n",
    "    'Bagging_classifier':BaggingClassifier(DecisionTreeClassifier(),n_estimators=5,n_jobs=-1),\n",
    "    'voting': VotingClassifier(estimators=[('LR',LogisticRegression()),('NB',GaussianNB()),('DT',DecisionTreeClassifier())])\n",
    "}"
   ]
  },
  {
   "cell_type": "code",
   "execution_count": 271,
   "id": "0abfc7d1",
   "metadata": {},
   "outputs": [
    {
     "name": "stdout",
     "output_type": "stream",
     "text": [
      "---------  log_reg -------------\n",
      "accuracy_training:  0.6433666191155493\n",
      "accuracy_testing:  0.6354820308043354\n",
      "confusion matrix:  [[1114  639]\n",
      " [   0    0]]\n",
      "recall score:  0.6354820308043354\n",
      "precision score:  0.6354820308043354\n",
      "------------------------------\n",
      "---------  KNN -------------\n",
      "accuracy_training:  0.7174037089871612\n",
      "accuracy_testing:  0.5556189389617798\n",
      "confusion matrix:  [[824 489]\n",
      " [290 150]]\n",
      "recall score:  0.5556189389617798\n",
      "precision score:  0.5556189389617798\n",
      "------------------------------\n",
      "---------  SVC -------------\n",
      "accuracy_training:  0.6437945791726105\n",
      "accuracy_testing:  0.6360524814603536\n",
      "confusion matrix:  [[1114  638]\n",
      " [   0    1]]\n",
      "recall score:  0.6360524814603536\n",
      "precision score:  0.6360524814603536\n",
      "------------------------------\n",
      "---------  NB -------------\n",
      "accuracy_training:  0.6433666191155493\n",
      "accuracy_testing:  0.6354820308043354\n",
      "confusion matrix:  [[1114  639]\n",
      " [   0    0]]\n",
      "recall score:  0.6354820308043354\n",
      "precision score:  0.6354820308043354\n",
      "------------------------------\n",
      "---------  DT -------------\n",
      "accuracy_training:  1.0\n",
      "accuracy_testing:  0.5350827153451226\n",
      "confusion matrix:  [[720 421]\n",
      " [394 218]]\n",
      "recall score:  0.5350827153451226\n",
      "precision score:  0.5350827153451226\n",
      "------------------------------\n",
      "---------  RF -------------\n",
      "accuracy_training:  0.6609129814550642\n",
      "accuracy_testing:  0.6360524814603536\n",
      "confusion matrix:  [[1114  638]\n",
      " [   0    1]]\n",
      "recall score:  0.6360524814603536\n",
      "precision score:  0.6360524814603536\n",
      "------------------------------\n",
      "---------  Bagging_classifier -------------\n",
      "accuracy_training:  0.9562054208273895\n",
      "accuracy_testing:  0.5521962350256703\n",
      "confusion matrix:  [[794 465]\n",
      " [320 174]]\n",
      "recall score:  0.5521962350256703\n",
      "precision score:  0.5521962350256703\n",
      "------------------------------\n",
      "---------  voting -------------\n",
      "accuracy_training:  0.6433666191155493\n",
      "accuracy_testing:  0.6354820308043354\n",
      "confusion matrix:  [[1114  639]\n",
      " [   0    0]]\n",
      "recall score:  0.6354820308043354\n",
      "precision score:  0.6354820308043354\n",
      "------------------------------\n"
     ]
    },
    {
     "data": {
      "text/plain": [
       "'\\nthe better result from classification is Random forest model.\\n'"
      ]
     },
     "execution_count": 271,
     "metadata": {},
     "output_type": "execute_result"
    }
   ],
   "source": [
    "from sklearn.metrics import accuracy_score,confusion_matrix,classification_report,recall_score,precision_score\n",
    "import joblib\n",
    "for name,model in models.items():\n",
    "    print('--------- ',name,'-------------')\n",
    "    model.fit(x_train,y_train)\n",
    "    y_pred=model.predict(x_test)\n",
    "    print('accuracy_training: ',accuracy_score(y_train,model.predict(x_train)))\n",
    "    print('accuracy_testing: ',accuracy_score(y_pred,y_test))\n",
    "    print('confusion matrix: ',confusion_matrix(y_pred,y_test))\n",
    "    print('recall score: ',recall_score(y_pred,y_test,average='micro'))\n",
    "    print('precision score: ',precision_score(y_pred,y_test,average='micro'))\n",
    "    joblib.dump(model,name+'_model.h5')\n",
    "    print('-'*30)\n",
    "\n",
    "'''\n",
    "the better result from classification is Random forest model.\n",
    "'''"
   ]
  },
  {
   "cell_type": "code",
   "execution_count": 272,
   "id": "a493df5c",
   "metadata": {},
   "outputs": [
    {
     "data": {
      "text/plain": [
       "Index(['Age', 'Cholesterol', 'Heart Rate', 'Exercise Hours Per Week', 'Diet',\n",
       "       'Stress Level', 'Sedentary Hours Per Day', 'Income', 'BMI',\n",
       "       'Triglycerides', 'Physical Activity Days Per Week',\n",
       "       'Sleep Hours Per Day', 'Heart Attack Risk', 'Systolic'],\n",
       "      dtype='object')"
      ]
     },
     "execution_count": 272,
     "metadata": {},
     "output_type": "execute_result"
    }
   ],
   "source": [
    "'''\n",
    "make this command in order to get features that i will use after that in deployment.\n",
    "'''\n",
    "df.columns"
   ]
  },
  {
   "cell_type": "code",
   "execution_count": 273,
   "id": "5c7e783b",
   "metadata": {},
   "outputs": [],
   "source": [
    "features = ['Age', 'Cholesterol', 'Heart Rate', 'Exercise Hours Per Week', 'Diet',\n",
    "       'Stress Level', 'Sedentary Hours Per Day', 'Income', 'BMI',\n",
    "       'Triglycerides', 'Physical Activity Days Per Week',\n",
    "       'Sleep Hours Per Day', 'Heart Attack Risk', 'Systolic']"
   ]
  },
  {
   "cell_type": "code",
   "execution_count": 274,
   "id": "c73c5a0f",
   "metadata": {},
   "outputs": [
    {
     "data": {
      "text/plain": [
       "['scaler.h5']"
      ]
     },
     "execution_count": 274,
     "metadata": {},
     "output_type": "execute_result"
    }
   ],
   "source": [
    "'''\n",
    "this to having feature and scaler that help me in deployment.\n",
    "'''\n",
    "joblib.dump(features,'features.h5')\n",
    "joblib.dump(scaler,'scaler.h5')"
   ]
  },
  {
   "cell_type": "code",
   "execution_count": 275,
   "id": "678152ca",
   "metadata": {},
   "outputs": [
    {
     "data": {
      "text/html": [
       "<div>\n",
       "<style scoped>\n",
       "    .dataframe tbody tr th:only-of-type {\n",
       "        vertical-align: middle;\n",
       "    }\n",
       "\n",
       "    .dataframe tbody tr th {\n",
       "        vertical-align: top;\n",
       "    }\n",
       "\n",
       "    .dataframe thead th {\n",
       "        text-align: right;\n",
       "    }\n",
       "</style>\n",
       "<table border=\"1\" class=\"dataframe\">\n",
       "  <thead>\n",
       "    <tr style=\"text-align: right;\">\n",
       "      <th></th>\n",
       "      <th>Age</th>\n",
       "      <th>Cholesterol</th>\n",
       "      <th>Heart Rate</th>\n",
       "      <th>Exercise Hours Per Week</th>\n",
       "      <th>Diet</th>\n",
       "      <th>Stress Level</th>\n",
       "      <th>Sedentary Hours Per Day</th>\n",
       "      <th>Income</th>\n",
       "      <th>BMI</th>\n",
       "      <th>Triglycerides</th>\n",
       "      <th>Physical Activity Days Per Week</th>\n",
       "      <th>Sleep Hours Per Day</th>\n",
       "      <th>Heart Attack Risk</th>\n",
       "      <th>Systolic</th>\n",
       "    </tr>\n",
       "  </thead>\n",
       "  <tbody>\n",
       "    <tr>\n",
       "      <th>0</th>\n",
       "      <td>67</td>\n",
       "      <td>208</td>\n",
       "      <td>72</td>\n",
       "      <td>4.168189</td>\n",
       "      <td>1</td>\n",
       "      <td>9</td>\n",
       "      <td>6.615001</td>\n",
       "      <td>261404</td>\n",
       "      <td>31.251233</td>\n",
       "      <td>286</td>\n",
       "      <td>0</td>\n",
       "      <td>6</td>\n",
       "      <td>0</td>\n",
       "      <td>158</td>\n",
       "    </tr>\n",
       "    <tr>\n",
       "      <th>1</th>\n",
       "      <td>21</td>\n",
       "      <td>389</td>\n",
       "      <td>98</td>\n",
       "      <td>1.813242</td>\n",
       "      <td>0</td>\n",
       "      <td>1</td>\n",
       "      <td>4.963459</td>\n",
       "      <td>285768</td>\n",
       "      <td>27.194973</td>\n",
       "      <td>235</td>\n",
       "      <td>1</td>\n",
       "      <td>7</td>\n",
       "      <td>0</td>\n",
       "      <td>165</td>\n",
       "    </tr>\n",
       "    <tr>\n",
       "      <th>2</th>\n",
       "      <td>21</td>\n",
       "      <td>324</td>\n",
       "      <td>72</td>\n",
       "      <td>2.078353</td>\n",
       "      <td>2</td>\n",
       "      <td>9</td>\n",
       "      <td>9.463426</td>\n",
       "      <td>235282</td>\n",
       "      <td>28.176571</td>\n",
       "      <td>587</td>\n",
       "      <td>4</td>\n",
       "      <td>4</td>\n",
       "      <td>0</td>\n",
       "      <td>174</td>\n",
       "    </tr>\n",
       "    <tr>\n",
       "      <th>3</th>\n",
       "      <td>84</td>\n",
       "      <td>383</td>\n",
       "      <td>73</td>\n",
       "      <td>9.828130</td>\n",
       "      <td>1</td>\n",
       "      <td>9</td>\n",
       "      <td>7.648981</td>\n",
       "      <td>125640</td>\n",
       "      <td>36.464704</td>\n",
       "      <td>378</td>\n",
       "      <td>3</td>\n",
       "      <td>4</td>\n",
       "      <td>0</td>\n",
       "      <td>163</td>\n",
       "    </tr>\n",
       "    <tr>\n",
       "      <th>4</th>\n",
       "      <td>66</td>\n",
       "      <td>318</td>\n",
       "      <td>93</td>\n",
       "      <td>10.070897</td>\n",
       "      <td>0</td>\n",
       "      <td>6</td>\n",
       "      <td>1.514821</td>\n",
       "      <td>160555</td>\n",
       "      <td>21.809144</td>\n",
       "      <td>231</td>\n",
       "      <td>1</td>\n",
       "      <td>5</td>\n",
       "      <td>0</td>\n",
       "      <td>91</td>\n",
       "    </tr>\n",
       "    <tr>\n",
       "      <th>...</th>\n",
       "      <td>...</td>\n",
       "      <td>...</td>\n",
       "      <td>...</td>\n",
       "      <td>...</td>\n",
       "      <td>...</td>\n",
       "      <td>...</td>\n",
       "      <td>...</td>\n",
       "      <td>...</td>\n",
       "      <td>...</td>\n",
       "      <td>...</td>\n",
       "      <td>...</td>\n",
       "      <td>...</td>\n",
       "      <td>...</td>\n",
       "      <td>...</td>\n",
       "    </tr>\n",
       "    <tr>\n",
       "      <th>8758</th>\n",
       "      <td>60</td>\n",
       "      <td>121</td>\n",
       "      <td>61</td>\n",
       "      <td>7.917342</td>\n",
       "      <td>2</td>\n",
       "      <td>8</td>\n",
       "      <td>10.806373</td>\n",
       "      <td>235420</td>\n",
       "      <td>19.655895</td>\n",
       "      <td>67</td>\n",
       "      <td>7</td>\n",
       "      <td>7</td>\n",
       "      <td>0</td>\n",
       "      <td>94</td>\n",
       "    </tr>\n",
       "    <tr>\n",
       "      <th>8759</th>\n",
       "      <td>28</td>\n",
       "      <td>120</td>\n",
       "      <td>73</td>\n",
       "      <td>16.558426</td>\n",
       "      <td>2</td>\n",
       "      <td>8</td>\n",
       "      <td>3.833038</td>\n",
       "      <td>217881</td>\n",
       "      <td>23.993866</td>\n",
       "      <td>617</td>\n",
       "      <td>4</td>\n",
       "      <td>9</td>\n",
       "      <td>0</td>\n",
       "      <td>157</td>\n",
       "    </tr>\n",
       "    <tr>\n",
       "      <th>8760</th>\n",
       "      <td>47</td>\n",
       "      <td>250</td>\n",
       "      <td>105</td>\n",
       "      <td>3.148438</td>\n",
       "      <td>1</td>\n",
       "      <td>5</td>\n",
       "      <td>2.375214</td>\n",
       "      <td>36998</td>\n",
       "      <td>35.406146</td>\n",
       "      <td>527</td>\n",
       "      <td>4</td>\n",
       "      <td>4</td>\n",
       "      <td>1</td>\n",
       "      <td>161</td>\n",
       "    </tr>\n",
       "    <tr>\n",
       "      <th>8761</th>\n",
       "      <td>36</td>\n",
       "      <td>178</td>\n",
       "      <td>60</td>\n",
       "      <td>3.789950</td>\n",
       "      <td>0</td>\n",
       "      <td>5</td>\n",
       "      <td>0.029104</td>\n",
       "      <td>209943</td>\n",
       "      <td>27.294020</td>\n",
       "      <td>114</td>\n",
       "      <td>2</td>\n",
       "      <td>8</td>\n",
       "      <td>0</td>\n",
       "      <td>119</td>\n",
       "    </tr>\n",
       "    <tr>\n",
       "      <th>8762</th>\n",
       "      <td>25</td>\n",
       "      <td>356</td>\n",
       "      <td>75</td>\n",
       "      <td>18.081748</td>\n",
       "      <td>2</td>\n",
       "      <td>8</td>\n",
       "      <td>9.005234</td>\n",
       "      <td>247338</td>\n",
       "      <td>32.914151</td>\n",
       "      <td>180</td>\n",
       "      <td>7</td>\n",
       "      <td>4</td>\n",
       "      <td>1</td>\n",
       "      <td>138</td>\n",
       "    </tr>\n",
       "  </tbody>\n",
       "</table>\n",
       "<p>8763 rows × 14 columns</p>\n",
       "</div>"
      ],
      "text/plain": [
       "      Age  Cholesterol  Heart Rate  Exercise Hours Per Week  Diet  \\\n",
       "0      67          208          72                 4.168189     1   \n",
       "1      21          389          98                 1.813242     0   \n",
       "2      21          324          72                 2.078353     2   \n",
       "3      84          383          73                 9.828130     1   \n",
       "4      66          318          93                10.070897     0   \n",
       "...   ...          ...         ...                      ...   ...   \n",
       "8758   60          121          61                 7.917342     2   \n",
       "8759   28          120          73                16.558426     2   \n",
       "8760   47          250         105                 3.148438     1   \n",
       "8761   36          178          60                 3.789950     0   \n",
       "8762   25          356          75                18.081748     2   \n",
       "\n",
       "      Stress Level  Sedentary Hours Per Day  Income        BMI  Triglycerides  \\\n",
       "0                9                 6.615001  261404  31.251233            286   \n",
       "1                1                 4.963459  285768  27.194973            235   \n",
       "2                9                 9.463426  235282  28.176571            587   \n",
       "3                9                 7.648981  125640  36.464704            378   \n",
       "4                6                 1.514821  160555  21.809144            231   \n",
       "...            ...                      ...     ...        ...            ...   \n",
       "8758             8                10.806373  235420  19.655895             67   \n",
       "8759             8                 3.833038  217881  23.993866            617   \n",
       "8760             5                 2.375214   36998  35.406146            527   \n",
       "8761             5                 0.029104  209943  27.294020            114   \n",
       "8762             8                 9.005234  247338  32.914151            180   \n",
       "\n",
       "      Physical Activity Days Per Week  Sleep Hours Per Day  Heart Attack Risk  \\\n",
       "0                                   0                    6                  0   \n",
       "1                                   1                    7                  0   \n",
       "2                                   4                    4                  0   \n",
       "3                                   3                    4                  0   \n",
       "4                                   1                    5                  0   \n",
       "...                               ...                  ...                ...   \n",
       "8758                                7                    7                  0   \n",
       "8759                                4                    9                  0   \n",
       "8760                                4                    4                  1   \n",
       "8761                                2                    8                  0   \n",
       "8762                                7                    4                  1   \n",
       "\n",
       "      Systolic  \n",
       "0          158  \n",
       "1          165  \n",
       "2          174  \n",
       "3          163  \n",
       "4           91  \n",
       "...        ...  \n",
       "8758        94  \n",
       "8759       157  \n",
       "8760       161  \n",
       "8761       119  \n",
       "8762       138  \n",
       "\n",
       "[8763 rows x 14 columns]"
      ]
     },
     "execution_count": 275,
     "metadata": {},
     "output_type": "execute_result"
    }
   ],
   "source": [
    "df"
   ]
  },
  {
   "cell_type": "markdown",
   "id": "7ab8c526",
   "metadata": {},
   "source": [
    "# summary ML"
   ]
  },
  {
   "cell_type": "code",
   "execution_count": 135,
   "id": "8e9debf0",
   "metadata": {},
   "outputs": [
    {
     "data": {
      "text/plain": [
       "'\\n\\n- The result of Feature selection using both \"high correlation filter\" or \"Random Forest Model\"  as per below:\\n1) High correlation between Heart Attack Risk and \\'Sedentary Hours Per Day\\' , \\'BMI\\' , \\'Exercise Hours Per Week\\' , \\'Income\\' \\n, \\'Triglycerides\\' , \\'Cholesterol\\' , \\'Age\\' , \\'Heart Rate\\' , \\'Systolic\\' , \\'Stress Level\\' , \\'Physical Activity Days Per Week\\',\\n\\'Sleep Hours Per Day\\' , \\'Diet\\' .\\n\\n\\n- GridsearchCV- HyperParmeter Tunning Result ==> The best alogorithm is Random Forest Model.\\n\\n- The best classification model is  Random Forest Algorithm as it has more accuracy_training and accuracy_testing.\\n\\n\\n'"
      ]
     },
     "execution_count": 135,
     "metadata": {},
     "output_type": "execute_result"
    }
   ],
   "source": [
    "'''\n",
    "\n",
    "- The result of Feature selection using both \"high correlation filter\" or \"Random Forest Model\"  as per below:\n",
    "1) High correlation between Heart Attack Risk and 'Sedentary Hours Per Day' , 'BMI' , 'Exercise Hours Per Week' , 'Income' \n",
    ", 'Triglycerides' , 'Cholesterol' , 'Age' , 'Heart Rate' , 'Systolic' , 'Stress Level' , 'Physical Activity Days Per Week',\n",
    "'Sleep Hours Per Day' , 'Diet' .\n",
    "\n",
    "\n",
    "- GridsearchCV- HyperParmeter Tunning Result ==> The best alogorithm is Random Forest Model.\n",
    "\n",
    "- The best classification model is  Random Forest Algorithm as it has more accuracy_training and accuracy_testing.\n",
    "\n",
    "\n",
    "'''"
   ]
  }
 ],
 "metadata": {
  "kernelspec": {
   "display_name": "Python 3 (ipykernel)",
   "language": "python",
   "name": "python3"
  },
  "language_info": {
   "codemirror_mode": {
    "name": "ipython",
    "version": 3
   },
   "file_extension": ".py",
   "mimetype": "text/x-python",
   "name": "python",
   "nbconvert_exporter": "python",
   "pygments_lexer": "ipython3",
   "version": "3.11.5"
  }
 },
 "nbformat": 4,
 "nbformat_minor": 5
}
